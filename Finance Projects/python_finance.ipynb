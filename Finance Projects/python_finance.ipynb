{
 "cells": [
  {
   "cell_type": "markdown",
   "metadata": {},
   "source": [
    "---"
   ]
  },
  {
   "cell_type": "markdown",
   "metadata": {},
   "source": [
    "### Importing Libraries"
   ]
  },
  {
   "cell_type": "code",
   "execution_count": 82,
   "metadata": {},
   "outputs": [],
   "source": [
    "import numpy as np\n",
    "import math\n",
    "import matplotlib.pyplot as plt\n",
    "import pandas as pd\n",
    "from pandas_datareader import data as web\n",
    "import quandl as qndl\n",
    "import statsmodels as stsm\n",
    "import yfinance as yf"
   ]
  },
  {
   "cell_type": "markdown",
   "metadata": {},
   "source": [
    "---"
   ]
  },
  {
   "cell_type": "markdown",
   "metadata": {},
   "source": [
    "### Importing Dataset"
   ]
  },
  {
   "cell_type": "code",
   "execution_count": 160,
   "metadata": {},
   "outputs": [
    {
     "data": {
      "text/html": [
       "<div>\n",
       "<style scoped>\n",
       "    .dataframe tbody tr th:only-of-type {\n",
       "        vertical-align: middle;\n",
       "    }\n",
       "\n",
       "    .dataframe tbody tr th {\n",
       "        vertical-align: top;\n",
       "    }\n",
       "\n",
       "    .dataframe thead th {\n",
       "        text-align: right;\n",
       "    }\n",
       "</style>\n",
       "<table border=\"1\" class=\"dataframe\">\n",
       "  <thead>\n",
       "    <tr style=\"text-align: right;\">\n",
       "      <th></th>\n",
       "      <th>Date</th>\n",
       "      <th>Open</th>\n",
       "      <th>High</th>\n",
       "      <th>Low</th>\n",
       "      <th>Close</th>\n",
       "      <th>Adj Close</th>\n",
       "      <th>Volume</th>\n",
       "      <th>Simple Daily Return</th>\n",
       "      <th>Log Daily Return</th>\n",
       "    </tr>\n",
       "  </thead>\n",
       "  <tbody>\n",
       "    <tr>\n",
       "      <th>2828</th>\n",
       "      <td>2022-06-15</td>\n",
       "      <td>22196.730469</td>\n",
       "      <td>22642.671875</td>\n",
       "      <td>20178.376953</td>\n",
       "      <td>22572.839844</td>\n",
       "      <td>22572.839844</td>\n",
       "      <td>54912007015</td>\n",
       "      <td>0.016484</td>\n",
       "      <td>0.016349</td>\n",
       "    </tr>\n",
       "    <tr>\n",
       "      <th>2829</th>\n",
       "      <td>2022-06-16</td>\n",
       "      <td>22576.304688</td>\n",
       "      <td>22868.921875</td>\n",
       "      <td>20265.226562</td>\n",
       "      <td>20381.650391</td>\n",
       "      <td>20381.650391</td>\n",
       "      <td>31183975654</td>\n",
       "      <td>-0.097072</td>\n",
       "      <td>-0.102112</td>\n",
       "    </tr>\n",
       "    <tr>\n",
       "      <th>2830</th>\n",
       "      <td>2022-06-17</td>\n",
       "      <td>20385.718750</td>\n",
       "      <td>21243.312500</td>\n",
       "      <td>20326.519531</td>\n",
       "      <td>20471.482422</td>\n",
       "      <td>20471.482422</td>\n",
       "      <td>27132421514</td>\n",
       "      <td>0.004407</td>\n",
       "      <td>0.004398</td>\n",
       "    </tr>\n",
       "    <tr>\n",
       "      <th>2831</th>\n",
       "      <td>2022-06-18</td>\n",
       "      <td>20473.425781</td>\n",
       "      <td>20736.041016</td>\n",
       "      <td>17708.623047</td>\n",
       "      <td>19017.642578</td>\n",
       "      <td>19017.642578</td>\n",
       "      <td>42009436760</td>\n",
       "      <td>-0.071018</td>\n",
       "      <td>-0.073666</td>\n",
       "    </tr>\n",
       "    <tr>\n",
       "      <th>2832</th>\n",
       "      <td>2022-06-19</td>\n",
       "      <td>18936.421875</td>\n",
       "      <td>19816.035156</td>\n",
       "      <td>18085.064453</td>\n",
       "      <td>19682.156250</td>\n",
       "      <td>19682.156250</td>\n",
       "      <td>40671084544</td>\n",
       "      <td>0.034942</td>\n",
       "      <td>0.034345</td>\n",
       "    </tr>\n",
       "  </tbody>\n",
       "</table>\n",
       "</div>"
      ],
      "text/plain": [
       "           Date          Open          High           Low         Close  \\\n",
       "2828 2022-06-15  22196.730469  22642.671875  20178.376953  22572.839844   \n",
       "2829 2022-06-16  22576.304688  22868.921875  20265.226562  20381.650391   \n",
       "2830 2022-06-17  20385.718750  21243.312500  20326.519531  20471.482422   \n",
       "2831 2022-06-18  20473.425781  20736.041016  17708.623047  19017.642578   \n",
       "2832 2022-06-19  18936.421875  19816.035156  18085.064453  19682.156250   \n",
       "\n",
       "         Adj Close       Volume  Simple Daily Return  Log Daily Return  \n",
       "2828  22572.839844  54912007015             0.016484          0.016349  \n",
       "2829  20381.650391  31183975654            -0.097072         -0.102112  \n",
       "2830  20471.482422  27132421514             0.004407          0.004398  \n",
       "2831  19017.642578  42009436760            -0.071018         -0.073666  \n",
       "2832  19682.156250  40671084544             0.034942          0.034345  "
      ]
     },
     "execution_count": 160,
     "metadata": {},
     "output_type": "execute_result"
    }
   ],
   "source": [
    "#BTC = yf.Ticker(\"BTC-USD\").history(period=\"max\").reset_index()[[\"Date\",\"Open\",\"High\",\"Low\",\"Close\",\"Volume\"]]\n",
    "BTC = web.DataReader(\"BTC-USD\", data_source=\"yahoo\",start=\"2010-01-01\").reset_index()[[\"Date\",\"Open\",\"High\",\"Low\",\"Close\",\"Adj Close\",\"Volume\"]]\n",
    "BTC = pd.DataFrame(data=BTC)\n",
    "BTC['Simple Daily Return'] = (BTC['Adj Close'] / BTC['Adj Close'].shift(1)) - 1\n",
    "BTC['Log Daily Return']= np.log(BTC['Adj Close'] / BTC['Adj Close'].shift(1))\n",
    "BTC.tail(5)\n"
   ]
  },
  {
   "cell_type": "code",
   "execution_count": 161,
   "metadata": {},
   "outputs": [
    {
     "data": {
      "text/html": [
       "<div>\n",
       "<style scoped>\n",
       "    .dataframe tbody tr th:only-of-type {\n",
       "        vertical-align: middle;\n",
       "    }\n",
       "\n",
       "    .dataframe tbody tr th {\n",
       "        vertical-align: top;\n",
       "    }\n",
       "\n",
       "    .dataframe thead th {\n",
       "        text-align: right;\n",
       "    }\n",
       "</style>\n",
       "<table border=\"1\" class=\"dataframe\">\n",
       "  <thead>\n",
       "    <tr style=\"text-align: right;\">\n",
       "      <th></th>\n",
       "      <th>count</th>\n",
       "      <th>mean</th>\n",
       "      <th>std</th>\n",
       "      <th>min</th>\n",
       "      <th>25%</th>\n",
       "      <th>50%</th>\n",
       "      <th>75%</th>\n",
       "      <th>max</th>\n",
       "    </tr>\n",
       "  </thead>\n",
       "  <tbody>\n",
       "    <tr>\n",
       "      <th>Open</th>\n",
       "      <td>2833.0</td>\n",
       "      <td>1.238486e+04</td>\n",
       "      <td>1.662383e+04</td>\n",
       "      <td>1.768970e+02</td>\n",
       "      <td>6.263520e+02</td>\n",
       "      <td>6.515410e+03</td>\n",
       "      <td>1.142170e+04</td>\n",
       "      <td>6.754973e+04</td>\n",
       "    </tr>\n",
       "    <tr>\n",
       "      <th>High</th>\n",
       "      <td>2833.0</td>\n",
       "      <td>1.270726e+04</td>\n",
       "      <td>1.705325e+04</td>\n",
       "      <td>2.117310e+02</td>\n",
       "      <td>6.388330e+02</td>\n",
       "      <td>6.625730e+03</td>\n",
       "      <td>1.170410e+04</td>\n",
       "      <td>6.878962e+04</td>\n",
       "    </tr>\n",
       "    <tr>\n",
       "      <th>Low</th>\n",
       "      <td>2833.0</td>\n",
       "      <td>1.202208e+04</td>\n",
       "      <td>1.612505e+04</td>\n",
       "      <td>1.715100e+02</td>\n",
       "      <td>6.185000e+02</td>\n",
       "      <td>6.445310e+03</td>\n",
       "      <td>1.116657e+04</td>\n",
       "      <td>6.638206e+04</td>\n",
       "    </tr>\n",
       "    <tr>\n",
       "      <th>Close</th>\n",
       "      <td>2833.0</td>\n",
       "      <td>1.239002e+04</td>\n",
       "      <td>1.661915e+04</td>\n",
       "      <td>1.781030e+02</td>\n",
       "      <td>6.293670e+02</td>\n",
       "      <td>6.529170e+03</td>\n",
       "      <td>1.142590e+04</td>\n",
       "      <td>6.756683e+04</td>\n",
       "    </tr>\n",
       "    <tr>\n",
       "      <th>Adj Close</th>\n",
       "      <td>2833.0</td>\n",
       "      <td>1.239002e+04</td>\n",
       "      <td>1.661915e+04</td>\n",
       "      <td>1.781030e+02</td>\n",
       "      <td>6.293670e+02</td>\n",
       "      <td>6.529170e+03</td>\n",
       "      <td>1.142590e+04</td>\n",
       "      <td>6.756683e+04</td>\n",
       "    </tr>\n",
       "    <tr>\n",
       "      <th>Volume</th>\n",
       "      <td>2833.0</td>\n",
       "      <td>1.537506e+10</td>\n",
       "      <td>1.996560e+10</td>\n",
       "      <td>5.914570e+06</td>\n",
       "      <td>8.576240e+07</td>\n",
       "      <td>5.662660e+09</td>\n",
       "      <td>2.619861e+10</td>\n",
       "      <td>3.509679e+11</td>\n",
       "    </tr>\n",
       "    <tr>\n",
       "      <th>Simple Daily Return</th>\n",
       "      <td>2832.0</td>\n",
       "      <td>2.092373e-03</td>\n",
       "      <td>3.887704e-02</td>\n",
       "      <td>-3.716954e-01</td>\n",
       "      <td>-1.376378e-02</td>\n",
       "      <td>1.961868e-03</td>\n",
       "      <td>1.825204e-02</td>\n",
       "      <td>2.524717e-01</td>\n",
       "    </tr>\n",
       "    <tr>\n",
       "      <th>Log Daily Return</th>\n",
       "      <td>2832.0</td>\n",
       "      <td>1.328409e-03</td>\n",
       "      <td>3.921452e-02</td>\n",
       "      <td>-4.647302e-01</td>\n",
       "      <td>-1.385938e-02</td>\n",
       "      <td>1.959946e-03</td>\n",
       "      <td>1.808747e-02</td>\n",
       "      <td>2.251190e-01</td>\n",
       "    </tr>\n",
       "  </tbody>\n",
       "</table>\n",
       "</div>"
      ],
      "text/plain": [
       "                      count          mean           std           min  \\\n",
       "Open                 2833.0  1.238486e+04  1.662383e+04  1.768970e+02   \n",
       "High                 2833.0  1.270726e+04  1.705325e+04  2.117310e+02   \n",
       "Low                  2833.0  1.202208e+04  1.612505e+04  1.715100e+02   \n",
       "Close                2833.0  1.239002e+04  1.661915e+04  1.781030e+02   \n",
       "Adj Close            2833.0  1.239002e+04  1.661915e+04  1.781030e+02   \n",
       "Volume               2833.0  1.537506e+10  1.996560e+10  5.914570e+06   \n",
       "Simple Daily Return  2832.0  2.092373e-03  3.887704e-02 -3.716954e-01   \n",
       "Log Daily Return     2832.0  1.328409e-03  3.921452e-02 -4.647302e-01   \n",
       "\n",
       "                              25%           50%           75%           max  \n",
       "Open                 6.263520e+02  6.515410e+03  1.142170e+04  6.754973e+04  \n",
       "High                 6.388330e+02  6.625730e+03  1.170410e+04  6.878962e+04  \n",
       "Low                  6.185000e+02  6.445310e+03  1.116657e+04  6.638206e+04  \n",
       "Close                6.293670e+02  6.529170e+03  1.142590e+04  6.756683e+04  \n",
       "Adj Close            6.293670e+02  6.529170e+03  1.142590e+04  6.756683e+04  \n",
       "Volume               8.576240e+07  5.662660e+09  2.619861e+10  3.509679e+11  \n",
       "Simple Daily Return -1.376378e-02  1.961868e-03  1.825204e-02  2.524717e-01  \n",
       "Log Daily Return    -1.385938e-02  1.959946e-03  1.808747e-02  2.251190e-01  "
      ]
     },
     "execution_count": 161,
     "metadata": {},
     "output_type": "execute_result"
    }
   ],
   "source": [
    "BTC.describe().T"
   ]
  },
  {
   "cell_type": "code",
   "execution_count": 11,
   "metadata": {},
   "outputs": [
    {
     "data": {
      "image/png": "[encoded data removed]",
      "text/plain": [
       "<Figure size 432x288 with 1 Axes>"
      ]
     },
     "metadata": {
      "needs_background": "light"
     },
     "output_type": "display_data"
    }
   ],
   "source": [
    "plt.plot(BTC['Date'],BTC['Simple Daily Return'])\n",
    "plt.show()"
   ]
  },
  {
   "cell_type": "code",
   "execution_count": 18,
   "metadata": {},
   "outputs": [
    {
     "data": {
      "image/png": "[encoded data removed]",
      "text/plain": [
       "<Figure size 432x288 with 1 Axes>"
      ]
     },
     "metadata": {
      "needs_background": "light"
     },
     "output_type": "display_data"
    }
   ],
   "source": [
    "plt.bar(BTC['Date'],BTC['Simple Daily Return'])\n",
    "plt.title(\"Bitcoin Simple Return History\", fontsize=14)\n",
    "plt.xlabel(\"Years\", fontsize=12)\n",
    "plt.ylabel(\"Daily Percentage\", fontsize=12)\n",
    "plt.show()"
   ]
  },
  {
   "cell_type": "markdown",
   "metadata": {},
   "source": [
    "---"
   ]
  },
  {
   "cell_type": "markdown",
   "metadata": {},
   "source": [
    "### Simple Return for Multiple Assets"
   ]
  },
  {
   "cell_type": "code",
   "execution_count": 25,
   "metadata": {},
   "outputs": [
    {
     "data": {
      "text/plain": [
       "0.0020850704593115207"
      ]
     },
     "execution_count": 25,
     "metadata": {},
     "output_type": "execute_result"
    }
   ],
   "source": [
    "avg_daily_return = BTC['Simple Daily Return'].mean()\n",
    "avg_daily_return"
   ]
  },
  {
   "cell_type": "code",
   "execution_count": 27,
   "metadata": {},
   "outputs": [
    {
     "data": {
      "text/plain": [
       "0.5296078966651263"
      ]
     },
     "execution_count": 27,
     "metadata": {},
     "output_type": "execute_result"
    }
   ],
   "source": [
    "avg_annual_return = avg_daily_return * 254\n",
    "avg_annual_return"
   ]
  },
  {
   "cell_type": "code",
   "execution_count": 101,
   "metadata": {},
   "outputs": [
    {
     "data": {
      "text/plain": [
       "52.9608"
      ]
     },
     "execution_count": 101,
     "metadata": {},
     "output_type": "execute_result"
    }
   ],
   "source": [
    "avasr = round(float(avg_annual_return),6)\n",
    "avasr = avasr * 100\n",
    "avasr"
   ]
  },
  {
   "cell_type": "code",
   "execution_count": 102,
   "metadata": {},
   "outputs": [
    {
     "name": "stdout",
     "output_type": "stream",
     "text": [
      "Avarage Annual Simple Return of Bitcoin History: 52.9608%\n"
     ]
    }
   ],
   "source": [
    "print(\"Avarage Annual Simple Return of Bitcoin History: \"+str(avasr)+\"%\")"
   ]
  },
  {
   "cell_type": "markdown",
   "metadata": {},
   "source": [
    "---"
   ]
  },
  {
   "cell_type": "markdown",
   "metadata": {},
   "source": [
    "### Log Return for a Single Asset"
   ]
  },
  {
   "cell_type": "code",
   "execution_count": 91,
   "metadata": {},
   "outputs": [
    {
     "data": {
      "text/plain": [
       "0.0013238243173739129"
      ]
     },
     "execution_count": 91,
     "metadata": {},
     "output_type": "execute_result"
    }
   ],
   "source": [
    "avg_log_daily_return = BTC['Log Daily Return'].mean()\n",
    "avg_log_daily_return "
   ]
  },
  {
   "cell_type": "code",
   "execution_count": 92,
   "metadata": {},
   "outputs": [
    {
     "data": {
      "text/plain": [
       "0.3362513766129739"
      ]
     },
     "execution_count": 92,
     "metadata": {},
     "output_type": "execute_result"
    }
   ],
   "source": [
    "avg_log_annual_return = avg_log_daily_return * 254\n",
    "avg_log_annual_return"
   ]
  },
  {
   "cell_type": "code",
   "execution_count": 94,
   "metadata": {},
   "outputs": [
    {
     "data": {
      "text/plain": [
       "33.625"
      ]
     },
     "execution_count": 94,
     "metadata": {},
     "output_type": "execute_result"
    }
   ],
   "source": [
    "avalr = float(round(avg_log_annual_return,5))*100\n",
    "avalr"
   ]
  },
  {
   "cell_type": "code",
   "execution_count": 97,
   "metadata": {},
   "outputs": [
    {
     "name": "stdout",
     "output_type": "stream",
     "text": [
      "Avarage Annual Log Return of Bitcoin History: 33.625%\n"
     ]
    }
   ],
   "source": [
    "print(\"Avarage Annual Log Return of Bitcoin History: \"+str(avalr)+\"%\")"
   ]
  },
  {
   "cell_type": "code",
   "execution_count": 89,
   "metadata": {},
   "outputs": [
    {
     "data": {
      "image/png": "[encoded data removed]",
      "text/plain": [
       "<Figure size 432x288 with 1 Axes>"
      ]
     },
     "metadata": {
      "needs_background": "light"
     },
     "output_type": "display_data"
    }
   ],
   "source": [
    "plt.plot(BTC['Date'],BTC['Log Daily Return'])\n",
    "plt.title('Bitcoin Annual Log Return History')\n",
    "plt.xlabel('Years')\n",
    "plt.ylabel('Percentage')\n",
    "plt.show()"
   ]
  },
  {
   "cell_type": "markdown",
   "metadata": {},
   "source": [
    "---"
   ]
  },
  {
   "cell_type": "markdown",
   "metadata": {},
   "source": [
    "### Portifolio Return"
   ]
  },
  {
   "cell_type": "code",
   "execution_count": 126,
   "metadata": {},
   "outputs": [],
   "source": [
    "Ticker=['BTC-USD','ETH-USD','ADA-USD','BNB-USD','BCH-USD']"
   ]
  },
  {
   "cell_type": "code",
   "execution_count": 127,
   "metadata": {},
   "outputs": [],
   "source": [
    "crypto_hist = pd.DataFrame()\n",
    "for asset in Ticker:\n",
    "    crypto_hist[asset]=web.DataReader(asset,data_source='yahoo',start='2019-01-01').reset_index()[[\"Adj Close\"]]"
   ]
  },
  {
   "cell_type": "code",
   "execution_count": 128,
   "metadata": {},
   "outputs": [
    {
     "data": {
      "text/html": [
       "<div>\n",
       "<style scoped>\n",
       "    .dataframe tbody tr th:only-of-type {\n",
       "        vertical-align: middle;\n",
       "    }\n",
       "\n",
       "    .dataframe tbody tr th {\n",
       "        vertical-align: top;\n",
       "    }\n",
       "\n",
       "    .dataframe thead th {\n",
       "        text-align: right;\n",
       "    }\n",
       "</style>\n",
       "<table border=\"1\" class=\"dataframe\">\n",
       "  <thead>\n",
       "    <tr style=\"text-align: right;\">\n",
       "      <th></th>\n",
       "      <th>BTC-USD</th>\n",
       "      <th>ETH-USD</th>\n",
       "      <th>ADA-USD</th>\n",
       "      <th>BNB-USD</th>\n",
       "      <th>BCH-USD</th>\n",
       "    </tr>\n",
       "  </thead>\n",
       "  <tbody>\n",
       "    <tr>\n",
       "      <th>0</th>\n",
       "      <td>3843.520020</td>\n",
       "      <td>140.819412</td>\n",
       "      <td>0.042547</td>\n",
       "      <td>6.075273</td>\n",
       "      <td>164.854599</td>\n",
       "    </tr>\n",
       "    <tr>\n",
       "      <th>1</th>\n",
       "      <td>3943.409424</td>\n",
       "      <td>155.047684</td>\n",
       "      <td>0.045258</td>\n",
       "      <td>6.188613</td>\n",
       "      <td>171.827377</td>\n",
       "    </tr>\n",
       "    <tr>\n",
       "      <th>2</th>\n",
       "      <td>3836.741211</td>\n",
       "      <td>149.135010</td>\n",
       "      <td>0.042682</td>\n",
       "      <td>5.903535</td>\n",
       "      <td>162.049927</td>\n",
       "    </tr>\n",
       "    <tr>\n",
       "      <th>3</th>\n",
       "      <td>3857.717529</td>\n",
       "      <td>154.581940</td>\n",
       "      <td>0.043812</td>\n",
       "      <td>6.065138</td>\n",
       "      <td>161.395630</td>\n",
       "    </tr>\n",
       "    <tr>\n",
       "      <th>4</th>\n",
       "      <td>3845.194580</td>\n",
       "      <td>155.638596</td>\n",
       "      <td>0.044701</td>\n",
       "      <td>6.065543</td>\n",
       "      <td>160.401215</td>\n",
       "    </tr>\n",
       "    <tr>\n",
       "      <th>...</th>\n",
       "      <td>...</td>\n",
       "      <td>...</td>\n",
       "      <td>...</td>\n",
       "      <td>...</td>\n",
       "      <td>...</td>\n",
       "    </tr>\n",
       "    <tr>\n",
       "      <th>1261</th>\n",
       "      <td>22572.839844</td>\n",
       "      <td>1233.206421</td>\n",
       "      <td>0.533296</td>\n",
       "      <td>233.396713</td>\n",
       "      <td>127.572388</td>\n",
       "    </tr>\n",
       "    <tr>\n",
       "      <th>1262</th>\n",
       "      <td>20381.650391</td>\n",
       "      <td>1067.730713</td>\n",
       "      <td>0.475022</td>\n",
       "      <td>209.538742</td>\n",
       "      <td>109.380051</td>\n",
       "    </tr>\n",
       "    <tr>\n",
       "      <th>1263</th>\n",
       "      <td>20471.482422</td>\n",
       "      <td>1086.519287</td>\n",
       "      <td>0.487392</td>\n",
       "      <td>215.891800</td>\n",
       "      <td>120.936127</td>\n",
       "    </tr>\n",
       "    <tr>\n",
       "      <th>1264</th>\n",
       "      <td>19017.642578</td>\n",
       "      <td>993.636780</td>\n",
       "      <td>0.456182</td>\n",
       "      <td>197.042999</td>\n",
       "      <td>116.519043</td>\n",
       "    </tr>\n",
       "    <tr>\n",
       "      <th>1265</th>\n",
       "      <td>19784.527344</td>\n",
       "      <td>1063.370728</td>\n",
       "      <td>0.468551</td>\n",
       "      <td>208.507401</td>\n",
       "      <td>119.178848</td>\n",
       "    </tr>\n",
       "  </tbody>\n",
       "</table>\n",
       "<p>1266 rows × 5 columns</p>\n",
       "</div>"
      ],
      "text/plain": [
       "           BTC-USD      ETH-USD   ADA-USD     BNB-USD     BCH-USD\n",
       "0      3843.520020   140.819412  0.042547    6.075273  164.854599\n",
       "1      3943.409424   155.047684  0.045258    6.188613  171.827377\n",
       "2      3836.741211   149.135010  0.042682    5.903535  162.049927\n",
       "3      3857.717529   154.581940  0.043812    6.065138  161.395630\n",
       "4      3845.194580   155.638596  0.044701    6.065543  160.401215\n",
       "...            ...          ...       ...         ...         ...\n",
       "1261  22572.839844  1233.206421  0.533296  233.396713  127.572388\n",
       "1262  20381.650391  1067.730713  0.475022  209.538742  109.380051\n",
       "1263  20471.482422  1086.519287  0.487392  215.891800  120.936127\n",
       "1264  19017.642578   993.636780  0.456182  197.042999  116.519043\n",
       "1265  19784.527344  1063.370728  0.468551  208.507401  119.178848\n",
       "\n",
       "[1266 rows x 5 columns]"
      ]
     },
     "execution_count": 128,
     "metadata": {},
     "output_type": "execute_result"
    }
   ],
   "source": [
    "crypto_hist"
   ]
  },
  {
   "cell_type": "code",
   "execution_count": 130,
   "metadata": {},
   "outputs": [
    {
     "data": {
      "text/html": [
       "<div>\n",
       "<style scoped>\n",
       "    .dataframe tbody tr th:only-of-type {\n",
       "        vertical-align: middle;\n",
       "    }\n",
       "\n",
       "    .dataframe tbody tr th {\n",
       "        vertical-align: top;\n",
       "    }\n",
       "\n",
       "    .dataframe thead th {\n",
       "        text-align: right;\n",
       "    }\n",
       "</style>\n",
       "<table border=\"1\" class=\"dataframe\">\n",
       "  <thead>\n",
       "    <tr style=\"text-align: right;\">\n",
       "      <th></th>\n",
       "      <th>count</th>\n",
       "      <th>mean</th>\n",
       "      <th>std</th>\n",
       "      <th>min</th>\n",
       "      <th>25%</th>\n",
       "      <th>50%</th>\n",
       "      <th>75%</th>\n",
       "      <th>max</th>\n",
       "    </tr>\n",
       "  </thead>\n",
       "  <tbody>\n",
       "    <tr>\n",
       "      <th>BTC-USD</th>\n",
       "      <td>1266.0</td>\n",
       "      <td>24114.422331</td>\n",
       "      <td>18772.132046</td>\n",
       "      <td>3399.471680</td>\n",
       "      <td>8696.936035</td>\n",
       "      <td>11758.937988</td>\n",
       "      <td>40819.063477</td>\n",
       "      <td>67566.828125</td>\n",
       "    </tr>\n",
       "    <tr>\n",
       "      <th>ETH-USD</th>\n",
       "      <td>1266.0</td>\n",
       "      <td>1300.702592</td>\n",
       "      <td>1373.050283</td>\n",
       "      <td>104.535301</td>\n",
       "      <td>186.897224</td>\n",
       "      <td>386.660217</td>\n",
       "      <td>2506.881104</td>\n",
       "      <td>4812.087402</td>\n",
       "    </tr>\n",
       "    <tr>\n",
       "      <th>ADA-USD</th>\n",
       "      <td>1266.0</td>\n",
       "      <td>0.594877</td>\n",
       "      <td>0.725721</td>\n",
       "      <td>0.023961</td>\n",
       "      <td>0.051454</td>\n",
       "      <td>0.111932</td>\n",
       "      <td>1.167430</td>\n",
       "      <td>2.968239</td>\n",
       "    </tr>\n",
       "    <tr>\n",
       "      <th>BNB-USD</th>\n",
       "      <td>1266.0</td>\n",
       "      <td>172.061030</td>\n",
       "      <td>200.340283</td>\n",
       "      <td>5.568757</td>\n",
       "      <td>18.114061</td>\n",
       "      <td>30.043416</td>\n",
       "      <td>361.936890</td>\n",
       "      <td>675.684082</td>\n",
       "    </tr>\n",
       "    <tr>\n",
       "      <th>BCH-USD</th>\n",
       "      <td>1266.0</td>\n",
       "      <td>367.412909</td>\n",
       "      <td>194.042500</td>\n",
       "      <td>109.380051</td>\n",
       "      <td>235.893154</td>\n",
       "      <td>307.143402</td>\n",
       "      <td>455.964287</td>\n",
       "      <td>1542.425049</td>\n",
       "    </tr>\n",
       "  </tbody>\n",
       "</table>\n",
       "</div>"
      ],
      "text/plain": [
       "          count          mean           std          min          25%  \\\n",
       "BTC-USD  1266.0  24114.422331  18772.132046  3399.471680  8696.936035   \n",
       "ETH-USD  1266.0   1300.702592   1373.050283   104.535301   186.897224   \n",
       "ADA-USD  1266.0      0.594877      0.725721     0.023961     0.051454   \n",
       "BNB-USD  1266.0    172.061030    200.340283     5.568757    18.114061   \n",
       "BCH-USD  1266.0    367.412909    194.042500   109.380051   235.893154   \n",
       "\n",
       "                  50%           75%           max  \n",
       "BTC-USD  11758.937988  40819.063477  67566.828125  \n",
       "ETH-USD    386.660217   2506.881104   4812.087402  \n",
       "ADA-USD      0.111932      1.167430      2.968239  \n",
       "BNB-USD     30.043416    361.936890    675.684082  \n",
       "BCH-USD    307.143402    455.964287   1542.425049  "
      ]
     },
     "execution_count": 130,
     "metadata": {},
     "output_type": "execute_result"
    }
   ],
   "source": [
    "crypto_hist.describe().T"
   ]
  },
  {
   "cell_type": "code",
   "execution_count": 131,
   "metadata": {},
   "outputs": [
    {
     "data": {
      "text/html": [
       "<div>\n",
       "<style scoped>\n",
       "    .dataframe tbody tr th:only-of-type {\n",
       "        vertical-align: middle;\n",
       "    }\n",
       "\n",
       "    .dataframe tbody tr th {\n",
       "        vertical-align: top;\n",
       "    }\n",
       "\n",
       "    .dataframe thead th {\n",
       "        text-align: right;\n",
       "    }\n",
       "</style>\n",
       "<table border=\"1\" class=\"dataframe\">\n",
       "  <thead>\n",
       "    <tr style=\"text-align: right;\">\n",
       "      <th></th>\n",
       "      <th>BTC-USD</th>\n",
       "      <th>ETH-USD</th>\n",
       "      <th>ADA-USD</th>\n",
       "      <th>BNB-USD</th>\n",
       "      <th>BCH-USD</th>\n",
       "    </tr>\n",
       "  </thead>\n",
       "  <tbody>\n",
       "    <tr>\n",
       "      <th>0</th>\n",
       "      <td>NaN</td>\n",
       "      <td>NaN</td>\n",
       "      <td>NaN</td>\n",
       "      <td>NaN</td>\n",
       "      <td>NaN</td>\n",
       "    </tr>\n",
       "    <tr>\n",
       "      <th>1</th>\n",
       "      <td>0.025989</td>\n",
       "      <td>0.101039</td>\n",
       "      <td>0.063718</td>\n",
       "      <td>0.018656</td>\n",
       "      <td>0.042297</td>\n",
       "    </tr>\n",
       "    <tr>\n",
       "      <th>2</th>\n",
       "      <td>-0.027050</td>\n",
       "      <td>-0.038135</td>\n",
       "      <td>-0.056918</td>\n",
       "      <td>-0.046065</td>\n",
       "      <td>-0.056903</td>\n",
       "    </tr>\n",
       "    <tr>\n",
       "      <th>3</th>\n",
       "      <td>0.005467</td>\n",
       "      <td>0.036523</td>\n",
       "      <td>0.026475</td>\n",
       "      <td>0.027374</td>\n",
       "      <td>-0.004038</td>\n",
       "    </tr>\n",
       "    <tr>\n",
       "      <th>4</th>\n",
       "      <td>-0.003246</td>\n",
       "      <td>0.006836</td>\n",
       "      <td>0.020291</td>\n",
       "      <td>0.000067</td>\n",
       "      <td>-0.006161</td>\n",
       "    </tr>\n",
       "    <tr>\n",
       "      <th>...</th>\n",
       "      <td>...</td>\n",
       "      <td>...</td>\n",
       "      <td>...</td>\n",
       "      <td>...</td>\n",
       "      <td>...</td>\n",
       "    </tr>\n",
       "    <tr>\n",
       "      <th>1261</th>\n",
       "      <td>0.016484</td>\n",
       "      <td>0.017780</td>\n",
       "      <td>0.100973</td>\n",
       "      <td>0.045585</td>\n",
       "      <td>0.010147</td>\n",
       "    </tr>\n",
       "    <tr>\n",
       "      <th>1262</th>\n",
       "      <td>-0.097072</td>\n",
       "      <td>-0.134183</td>\n",
       "      <td>-0.109271</td>\n",
       "      <td>-0.102221</td>\n",
       "      <td>-0.142604</td>\n",
       "    </tr>\n",
       "    <tr>\n",
       "      <th>1263</th>\n",
       "      <td>0.004407</td>\n",
       "      <td>0.017597</td>\n",
       "      <td>0.026041</td>\n",
       "      <td>0.030319</td>\n",
       "      <td>0.105651</td>\n",
       "    </tr>\n",
       "    <tr>\n",
       "      <th>1264</th>\n",
       "      <td>-0.071018</td>\n",
       "      <td>-0.085486</td>\n",
       "      <td>-0.064035</td>\n",
       "      <td>-0.087307</td>\n",
       "      <td>-0.036524</td>\n",
       "    </tr>\n",
       "    <tr>\n",
       "      <th>1265</th>\n",
       "      <td>0.040325</td>\n",
       "      <td>0.070181</td>\n",
       "      <td>0.027115</td>\n",
       "      <td>0.058182</td>\n",
       "      <td>0.022827</td>\n",
       "    </tr>\n",
       "  </tbody>\n",
       "</table>\n",
       "<p>1266 rows × 5 columns</p>\n",
       "</div>"
      ],
      "text/plain": [
       "       BTC-USD   ETH-USD   ADA-USD   BNB-USD   BCH-USD\n",
       "0          NaN       NaN       NaN       NaN       NaN\n",
       "1     0.025989  0.101039  0.063718  0.018656  0.042297\n",
       "2    -0.027050 -0.038135 -0.056918 -0.046065 -0.056903\n",
       "3     0.005467  0.036523  0.026475  0.027374 -0.004038\n",
       "4    -0.003246  0.006836  0.020291  0.000067 -0.006161\n",
       "...        ...       ...       ...       ...       ...\n",
       "1261  0.016484  0.017780  0.100973  0.045585  0.010147\n",
       "1262 -0.097072 -0.134183 -0.109271 -0.102221 -0.142604\n",
       "1263  0.004407  0.017597  0.026041  0.030319  0.105651\n",
       "1264 -0.071018 -0.085486 -0.064035 -0.087307 -0.036524\n",
       "1265  0.040325  0.070181  0.027115  0.058182  0.022827\n",
       "\n",
       "[1266 rows x 5 columns]"
      ]
     },
     "execution_count": 131,
     "metadata": {},
     "output_type": "execute_result"
    }
   ],
   "source": [
    "daily_returns = (crypto_hist / crypto_hist.shift(1)) - 1\n",
    "daily_returns"
   ]
  },
  {
   "cell_type": "code",
   "execution_count": 157,
   "metadata": {},
   "outputs": [],
   "source": [
    "#BTC as reference\n",
    "weights_1 = np.array([0.40,0.25,0.15,0.15,0.05])\n",
    "\n",
    "#ADA as reference\n",
    "weights_2 = np.array([0.15,0.25,0.40,0.15,0.05])"
   ]
  },
  {
   "cell_type": "code",
   "execution_count": 133,
   "metadata": {},
   "outputs": [
    {
     "data": {
      "text/plain": [
       "BTC-USD    0.002050\n",
       "ETH-USD    0.002818\n",
       "ADA-USD    0.003588\n",
       "BNB-USD    0.004344\n",
       "BCH-USD    0.001426\n",
       "dtype: float64"
      ]
     },
     "execution_count": 133,
     "metadata": {},
     "output_type": "execute_result"
    }
   ],
   "source": [
    "avg_portifolio_daily_return = daily_returns.mean()\n",
    "avg_portifolio_daily_return"
   ]
  },
  {
   "cell_type": "code",
   "execution_count": 134,
   "metadata": {},
   "outputs": [
    {
     "data": {
      "text/plain": [
       "BTC-USD    0.520727\n",
       "ETH-USD    0.715854\n",
       "ADA-USD    0.911235\n",
       "BNB-USD    1.103492\n",
       "BCH-USD    0.362113\n",
       "dtype: float64"
      ]
     },
     "execution_count": 134,
     "metadata": {},
     "output_type": "execute_result"
    }
   ],
   "source": [
    "avg_portifolio_annual_return = avg_portifolio_daily_return * 254\n",
    "avg_portifolio_annual_return"
   ]
  },
  {
   "cell_type": "code",
   "execution_count": 154,
   "metadata": {},
   "outputs": [],
   "source": [
    "portifolio1_return = np.dot(avg_portifolio_annual_return,weights_1)\n",
    "portifolio1_return = round(portifolio1_return,4)*100\n",
    "#portifolio_return"
   ]
  },
  {
   "cell_type": "code",
   "execution_count": 149,
   "metadata": {},
   "outputs": [
    {
     "name": "stdout",
     "output_type": "stream",
     "text": [
      "Avarage Return of the Crypto Portifolio: 70.76%\n"
     ]
    }
   ],
   "source": [
    "print(\"Avarage Return of the Crypto Portifolio: \"+str(portifolio1_return)+\"%\")"
   ]
  },
  {
   "cell_type": "code",
   "execution_count": 158,
   "metadata": {},
   "outputs": [],
   "source": [
    "portifolio2_return = np.dot(avg_portifolio_annual_return,weights_2)\n",
    "portifolio2_return = round(portifolio2_return,4)*100\n",
    "#portifolio_return"
   ]
  },
  {
   "cell_type": "code",
   "execution_count": 159,
   "metadata": {},
   "outputs": [
    {
     "name": "stdout",
     "output_type": "stream",
     "text": [
      "Avarage Return of the Crypto Portifolio: 80.52%\n"
     ]
    }
   ],
   "source": [
    "print(\"Avarage Return of the Crypto Portifolio: \"+str(portifolio2_return)+\"%\")"
   ]
  },
  {
   "cell_type": "code",
   "execution_count": null,
   "metadata": {},
   "outputs": [],
   "source": []
  }
 ],
 "metadata": {
  "kernelspec": {
   "display_name": "Python 3.9.13 64-bit",
   "language": "python",
   "name": "python3"
  },
  "language_info": {
   "codemirror_mode": {
    "name": "ipython",
    "version": 3
   },
   "file_extension": ".py",
   "mimetype": "text/x-python",
   "name": "python",
   "nbconvert_exporter": "python",
   "pygments_lexer": "ipython3",
   "version": "3.9.13"
  },
  "orig_nbformat": 4,
  "vscode": {
   "interpreter": {
    "hash": "d3381d18284c48d2e0d0711b824adb2fd009c4b6baa280724f5e49a193899725"
   }
  }
 },
 "nbformat": 4,
 "nbformat_minor": 2
}
